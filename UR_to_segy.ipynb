{
 "cells": [
  {
   "cell_type": "code",
   "execution_count": 1,
   "metadata": {
    "collapsed": true
   },
   "outputs": [],
   "source": [
    "import os\n",
    "import subprocess\n",
    "import numpy as np\n",
    "import matplotlib.pyplot as plt\n",
    "import sounddevice as sd\n",
    "import sys\n",
    "\n",
    "from obspy.core import AttribDict\n",
    "from obspy.core import Stats\n",
    "\n",
    "from obspy.core import Trace, Stream\n",
    "from obspy.io.segy.segy import SEGYBinaryFileHeader\n",
    "from obspy.io.segy.segy import SEGYTraceHeader"
   ]
  },
  {
   "cell_type": "code",
   "execution_count": 9,
   "metadata": {
    "collapsed": true
   },
   "outputs": [],
   "source": [
    "path = os.getcwd()\n",
    "command = [\n",
    "    'avconv',\n",
    "    '-i', os.path.join(path, 'dat/ur-soundoff.mp3'),\n",
    "    '-f', 's16le',\n",
    "    '-acodec', 'pcm_s16le',\n",
    "    '-ar', '44100', # ouput will have 44100 Hz\n",
    "    '-ac', '2', # stereo (set to '1' for mono)\n",
    "    '-'\n",
    "]\n",
    "\n",
    "pipe = subprocess.Popen(command, \n",
    "                        stdout=subprocess.PIPE, \n",
    "                        bufsize=10**8)\n",
    "stdoutdata = pipe.stdout.read()\n",
    "audio_array = np.fromstring(stdoutdata, dtype=\"int16\")"
   ]
  },
  {
   "cell_type": "code",
   "execution_count": 3,
   "metadata": {
    "collapsed": false
   },
   "outputs": [
    {
     "data": {
      "text/plain": [
       "(342701620,)"
      ]
     },
     "execution_count": 3,
     "metadata": {},
     "output_type": "execute_result"
    }
   ],
   "source": [
    "audio_array.shape"
   ]
  },
  {
   "cell_type": "code",
   "execution_count": 4,
   "metadata": {
    "collapsed": false
   },
   "outputs": [
    {
     "name": "stdout",
     "output_type": "stream",
     "text": [
      "(2001, 171266)\n"
     ]
    }
   ],
   "source": [
    "ns = 2001\n",
    "#print(audio_array.shape[0] / ns)\n",
    "\n",
    "pad = np.pad(audio_array, (0, int(np.ceil(audio_array.shape[0] / ns)) * ns - audio_array.shape[0]), 'constant')\n",
    "\n",
    "ur = np.reshape(pad, (ns, -1), order='F')\n",
    "print(ur.shape)"
   ]
  },
  {
   "cell_type": "code",
   "execution_count": 35,
   "metadata": {
    "collapsed": false
   },
   "outputs": [],
   "source": [
    "head = 'Undersampled Radio - Seismic Soundoff'\n",
    "head = head.encode('utf-8')\n",
    "\n",
    "\n",
    "def filewrite(filename, inputdata, ntr, idx):\n",
    "    stream = Stream()\n",
    "\n",
    "    for i in range(ntr):\n",
    "        # build audio into trace data\n",
    "        data = inputdata[:, i]\n",
    "        data = np.require(data, dtype=np.float32)\n",
    "        trace = Trace(data=data)\n",
    "\n",
    "        # Attributes in trace.stats will overwrite everything in trace.stats.segy.trace_header\n",
    "        trace.stats.delta = 0.004\n",
    "\n",
    "        if not hasattr(trace.stats, 'segy.trace_header'):\n",
    "            trace.stats.segy = {}\n",
    "        trace.stats.segy.trace_header = SEGYTraceHeader()\n",
    "        trace.stats.segy.trace_header.trace_sequence_number_within_line = (idx * ntr) + (i + 1)\n",
    "        trace.stats.segy.trace_header.receiver_group_elevation = 1\n",
    "        trace.stats.segy.trace_header.source_coordinate_x = idx\n",
    "        trace.stats.segy.trace_header.group_coordinate_x = i + 1\n",
    "\n",
    "        # Add trace to stream\n",
    "        stream.append(trace)\n",
    "\n",
    "\n",
    "    stream.stats = AttribDict()\n",
    "    stream.stats.textual_file_header = head\n",
    "    stream.stats.binary_file_header = SEGYBinaryFileHeader()\n",
    "    stream.stats.binary_file_header.trace_sorting_code = 5\n",
    "\n",
    "    stream.write(filename, format=\"SU\", data_encoding=1)\n",
    "    \n",
    "\n",
    "maxtr = 32767\n",
    "fullfiles = int(np.floor(ur.shape[1] / maxtr))\n",
    "leftover = ur.shape[1] - fullfiles * maxtr\n",
    "fidx = 0\n",
    "    \n",
    "for i in range(0, ur.shape[1]-leftover, maxtr):\n",
    "    file = ''.join(('dat/', str(fidx), '.su'))\n",
    "    sect = ur[:, i:i+maxtr]\n",
    "    filewrite(file, sect, maxtr, fidx)\n",
    "    fidx += 1\n",
    "    \n",
    "file = ''.join(('dat/', str(fidx), '.su'))\n",
    "sect = ur[:, ur.shape[1]-leftover:]\n",
    "filewrite(file, sect, leftover, fidx)"
   ]
  },
  {
   "cell_type": "code",
   "execution_count": 1,
   "metadata": {
    "collapsed": false
   },
   "outputs": [
    {
     "name": "stdout",
     "output_type": "stream",
     "text": [
      "\n",
      "sushw: fgettr.c: on trace #171266, number of samples in header (53511) differs from number for first trace (2001)\n",
      "171266 traces:\n",
      "tracl    1 171266 (1 - 171266)\n",
      "ns       2001\n",
      "dt       4000\n",
      "\n",
      "suxwigb: subcalls.c: efwrite: fwrite only 187 items of 2001\n"
     ]
    }
   ],
   "source": [
    "!rm dat/ur.su\n",
    "!cat dat/*.su > dat/temp.su\n",
    "!sushw < dat/temp.su key=tracl a=1 b=1 > dat/ur.su\n",
    "!rm dat/temp.su\n",
    "!surange < dat/ur.su\n",
    "!suxwigb < dat/ur.su n2=300"
   ]
  },
  {
   "cell_type": "code",
   "execution_count": 1,
   "metadata": {
    "collapsed": true
   },
   "outputs": [],
   "source": [
    "!setbhed par=dat/binary.txt bfile=dat/swap\n",
    "!swapbhed < dat/swap > dat/binary"
   ]
  },
  {
   "cell_type": "code",
   "execution_count": null,
   "metadata": {
    "collapsed": true
   },
   "outputs": [],
   "source": [
    "!segywrite < dat/ur.su tape=dat/ur.sgy hfile=dat/header.txt bfile=dat/binary"
   ]
  }
 ],
 "metadata": {
  "kernelspec": {
   "display_name": "Python 3",
   "language": "python",
   "name": "python3"
  },
  "language_info": {
   "codemirror_mode": {
    "name": "ipython",
    "version": 3
   },
   "file_extension": ".py",
   "mimetype": "text/x-python",
   "name": "python",
   "nbconvert_exporter": "python",
   "pygments_lexer": "ipython3",
   "version": "3.5.1"
  }
 },
 "nbformat": 4,
 "nbformat_minor": 0
}
